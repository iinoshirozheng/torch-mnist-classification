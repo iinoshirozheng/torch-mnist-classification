{
 "cells": [
  {
   "cell_type": "markdown",
   "metadata": {},
   "source": [
    "## Mnist Classiflication\n",
    "- Basic structural and training methods, common functions\n",
    "- torch.nn.function\n",
    "- nn.Module"
   ]
  },
  {
   "cell_type": "code",
   "execution_count": 1,
   "metadata": {},
   "outputs": [
    {
     "name": "stdout",
     "output_type": "stream",
     "text": [
      "Version: 2.4.0.dev20240321\n",
      "Device : mps\n"
     ]
    }
   ],
   "source": [
    "import torch\n",
    "print(f'Version: {torch.__version__}')\n",
    "use_cuda = torch.cuda.is_available()\n",
    "use_mps = torch.backends.mps.is_available()\n",
    "\n",
    "if use_cuda:\n",
    "    device = torch.device(\"cuda\")\n",
    "elif use_mps:\n",
    "    device = torch.device(\"mps\")\n",
    "else:\n",
    "    device = torch.device(\"cpu\")\n",
    "\n",
    "print(f'Device : {device}')\n"
   ]
  },
  {
   "cell_type": "code",
   "execution_count": 2,
   "metadata": {},
   "outputs": [],
   "source": [
    "from torchvision import datasets\n",
    "import torch.utils.data as data\n",
    "from torch.utils.data.dataloader import DataLoader\n",
    "from pathlib import Path\n",
    "from torchvision import transforms\n",
    "\n",
    "DATA_PATH = Path('data')\n",
    "TRAIN_DATA = 'train'\n",
    "TEST_DATA = 'test'\n",
    "\n",
    "if not DATA_PATH.exists():\n",
    "    DATA_PATH.mkdir()\n",
    "\n",
    "if not (DATA_PATH / TRAIN_DATA).exists():\n",
    "    (DATA_PATH / TRAIN_DATA).mkdir()\n",
    "if not (DATA_PATH / TEST_DATA).exists():\n",
    "    (DATA_PATH / TEST_DATA).mkdir()\n",
    "\n",
    "\n",
    "# Define the transformation to resize images and flatten them to 1D tensors\n",
    "transform = transforms.Compose([\n",
    "    transforms.ToTensor(),         # Convert to tensor\n",
    "    transforms.Lambda(lambda x: x.view( -1))  # Flatten to 1D tensor (784)\n",
    "])\n",
    "\n",
    "train_data1 = datasets.MNIST(root= DATA_PATH / TRAIN_DATA, train=True, download=True, transform=transform)\n",
    "test_data1 = datasets.MNIST(root= DATA_PATH / TEST_DATA, train=False, download=True , transform=transform)"
   ]
  },
  {
   "cell_type": "code",
   "execution_count": 3,
   "metadata": {},
   "outputs": [],
   "source": [
    "batch_size = 64\n",
    "#使用torch.utils.data.DataLoader加载数据集\n",
    "train_loader = DataLoader(dataset=train_data1, batch_size=batch_size, shuffle=True)\n",
    "test_loader = DataLoader(dataset=test_data1, batch_size=batch_size, shuffle=False)"
   ]
  },
  {
   "cell_type": "code",
   "execution_count": 4,
   "metadata": {},
   "outputs": [
    {
     "name": "stdout",
     "output_type": "stream",
     "text": [
      "type:<class 'torch.utils.data.dataloader.DataLoader'> <torch.utils.data.dataloader.DataLoader object at 0x1324c71a0>\n",
      "\n",
      "type:<class 'torch.utils.data.dataloader.DataLoader'> <torch.utils.data.dataloader.DataLoader object at 0x1324c71a0>\n"
     ]
    }
   ],
   "source": [
    "print(f\"type:{type(train_loader)} {train_loader}\\n\")\n",
    "print(f\"type:{type(test_loader)} {train_loader}\")"
   ]
  },
  {
   "cell_type": "code",
   "execution_count": 5,
   "metadata": {},
   "outputs": [
    {
     "name": "stdout",
     "output_type": "stream",
     "text": [
      "torch.Size([64, 784])\n",
      "torch.Size([64])\n"
     ]
    }
   ],
   "source": [
    "for i, j in train_loader:\n",
    "    print(i.shape)\n",
    "    print(j.shape)\n",
    "    break"
   ]
  },
  {
   "cell_type": "markdown",
   "metadata": {},
   "source": [
    "---\n",
    "### Create Module with torch\n",
    "- define basic network"
   ]
  },
  {
   "cell_type": "code",
   "execution_count": 6,
   "metadata": {},
   "outputs": [],
   "source": [
    "from torch import nn\n",
    "import torch.nn.functional as Func \n",
    "import torch.optim as optim\n",
    "import numpy as np\n",
    "\n",
    "class MnistNet(nn.Module):\n",
    "    def __init__(self):\n",
    "        super().__init__()\n",
    "        self.hidden1 = nn.Linear(28*28, 16*16)\n",
    "        self.hidden2 = nn.Linear(16*16, 8*8)\n",
    "        self.out = nn.Linear(8*8, 10)\n",
    "\n",
    "        self.dropout = nn.Dropout(0.5)\n",
    "        self.steps = 100\n",
    "        self.lr = 0.005\n",
    "        self.optimizer = optim.SGD(self.parameters(), lr=self.lr)\n",
    "        self.loss = nn.CrossEntropyLoss()\n",
    "\n",
    "\n",
    "    def forward(self, x):\n",
    "        x = Func.relu(self.hidden1(x))\n",
    "        x = self.dropout(x)\n",
    "        x = Func.relu(self.hidden2(x))\n",
    "        x = self.dropout(x)\n",
    "        x = self.out(x)\n",
    "        return x\n",
    "    \n",
    "    def fit(self, \n",
    "            train ,\n",
    "            val, \n",
    "            steps= None, loss= None, \n",
    "            optimizer = None, lr=None):\n",
    "        \n",
    "        # set parameters\n",
    "        if steps is not None : self.steps = steps\n",
    "        if loss is not None : self.loss = loss\n",
    "        if optimizer is not None : self.optimizer = optimizer\n",
    "        if lr is not None : self.lr = lr\n",
    "\n",
    "        for step in range(1, self.steps+1):\n",
    "            self.train()\n",
    "            for xb, yb in train:\n",
    "                xb = xb.to(device)\n",
    "                yb = yb.to(device)\n",
    "                self._loss_batch(xb, yb)\n",
    "\n",
    "            self.eval()\n",
    "            with torch.no_grad():\n",
    "                losses, nums = zip(*[self._loss_batch(x, y, grad=False) for x, y in val])\n",
    "            \n",
    "            val_loss = np.sum(np.multiply(losses, nums)) / np.sum(nums)\n",
    "            accuracy = self.predict(val)\n",
    "            print(f'step : {step},\\tloss: {val_loss:.5f},\\taccuracy: {accuracy} %')\n",
    "\n",
    "    \n",
    "    def _loss_batch(self, x_batch, y_batch, grad=True):\n",
    "        # print(y_batch)\n",
    "        x_batch = x_batch.to(device)\n",
    "        y_batch = y_batch.to(device)\n",
    "        out = self.forward(x_batch)\n",
    "        out_loss = self.loss(out, y_batch)\n",
    "        if grad:\n",
    "            out_loss.backward()\n",
    "            self.optimizer.step()\n",
    "            self.optimizer.zero_grad()\n",
    "        # print(out_loss)\n",
    "        return out_loss.item(), len(x_batch)\n",
    "    \n",
    "    def predict(self, valuation_loader):\n",
    "        correct, total = 0, 0\n",
    "        for xb, yb in valuation_loader:\n",
    "            xb = xb.to(device)\n",
    "            yb = yb.to(device)\n",
    "\n",
    "            outputs = self.forward(xb)\n",
    "            _, predicted = torch.max(outputs.data, dim=1)\n",
    "            total += yb.size(0)\n",
    "            correct += (predicted == yb).sum().item()\n",
    "\n",
    "        return 100.0 * correct/total\n",
    "\n"
   ]
  },
  {
   "cell_type": "code",
   "execution_count": 7,
   "metadata": {},
   "outputs": [],
   "source": [
    "# for name, parameter in network.named_parameters():\n",
    "#     print(name, parameter, parameter.size())\n",
    "network = MnistNet().to(device)"
   ]
  },
  {
   "cell_type": "code",
   "execution_count": 8,
   "metadata": {},
   "outputs": [
    {
     "name": "stdout",
     "output_type": "stream",
     "text": [
      "step : 1,\tloss: 1.92941,\taccuracy: 56.06 %\n",
      "step : 2,\tloss: 1.09036,\taccuracy: 74.7 %\n",
      "step : 3,\tloss: 0.73544,\taccuracy: 81.52 %\n",
      "step : 4,\tloss: 0.57881,\taccuracy: 85.12 %\n",
      "step : 5,\tloss: 0.49258,\taccuracy: 87.22 %\n",
      "step : 6,\tloss: 0.43808,\taccuracy: 88.49 %\n",
      "step : 7,\tloss: 0.39695,\taccuracy: 89.34 %\n",
      "step : 8,\tloss: 0.36596,\taccuracy: 89.95 %\n",
      "step : 9,\tloss: 0.34363,\taccuracy: 90.37 %\n",
      "step : 10,\tloss: 0.32198,\taccuracy: 90.99 %\n",
      "step : 11,\tloss: 0.30499,\taccuracy: 91.35 %\n",
      "step : 12,\tloss: 0.29038,\taccuracy: 91.63 %\n",
      "step : 13,\tloss: 0.27938,\taccuracy: 91.9 %\n",
      "step : 14,\tloss: 0.26737,\taccuracy: 92.25 %\n",
      "step : 15,\tloss: 0.25741,\taccuracy: 92.44 %\n",
      "step : 16,\tloss: 0.24754,\taccuracy: 92.89 %\n",
      "step : 17,\tloss: 0.23851,\taccuracy: 93.2 %\n",
      "step : 18,\tloss: 0.23031,\taccuracy: 93.34 %\n",
      "step : 19,\tloss: 0.22394,\taccuracy: 93.47 %\n",
      "step : 20,\tloss: 0.21693,\taccuracy: 93.73 %\n"
     ]
    }
   ],
   "source": [
    "network.fit(train_loader, test_loader, steps=20)"
   ]
  }
 ],
 "metadata": {
  "kernelspec": {
   "display_name": "torch",
   "language": "python",
   "name": "python3"
  },
  "language_info": {
   "codemirror_mode": {
    "name": "ipython",
    "version": 3
   },
   "file_extension": ".py",
   "mimetype": "text/x-python",
   "name": "python",
   "nbconvert_exporter": "python",
   "pygments_lexer": "ipython3",
   "version": "3.12.2"
  }
 },
 "nbformat": 4,
 "nbformat_minor": 2
}
